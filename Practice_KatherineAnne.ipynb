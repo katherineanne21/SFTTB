{
  "nbformat": 4,
  "nbformat_minor": 0,
  "metadata": {
    "colab": {
      "provenance": [],
      "toc_visible": true,
      "authorship_tag": "ABX9TyNeiIn3ZsQaNgWj13kRkvr7",
      "include_colab_link": true
    },
    "kernelspec": {
      "name": "python3",
      "display_name": "Python 3"
    },
    "language_info": {
      "name": "python"
    }
  },
  "cells": [
    {
      "cell_type": "markdown",
      "metadata": {
        "id": "view-in-github",
        "colab_type": "text"
      },
      "source": [
        "<a href=\"https://colab.research.google.com/github/katherineanne21/SFTTB/blob/main/Practice_KatherineAnne.ipynb\" target=\"_parent\"><img src=\"https://colab.research.google.com/assets/colab-badge.svg\" alt=\"Open In Colab\"/></a>"
      ]
    },
    {
      "cell_type": "markdown",
      "source": [
        "### Prep Workspace"
      ],
      "metadata": {
        "id": "7LzsN-_DYwbM"
      }
    },
    {
      "cell_type": "code",
      "execution_count": 9,
      "metadata": {
        "colab": {
          "base_uri": "https://localhost:8080/"
        },
        "id": "2mzOz_FA86nv",
        "outputId": "7c4c75c9-5e88-4026-bb7d-a84a74d9708f"
      },
      "outputs": [
        {
          "output_type": "stream",
          "name": "stdout",
          "text": [
            "Mounted at /content/drive\n"
          ]
        }
      ],
      "source": [
        "# Mount Google Drive\n",
        "# *Only need to do once*\n",
        "from google.colab import drive\n",
        "drive.mount('/content/drive', force_remount=True)"
      ]
    },
    {
      "cell_type": "code",
      "source": [
        "# Import required modules\n",
        "import pandas as pd\n",
        "import geopandas as gpd\n",
        "import matplotlib.pyplot as plt\n",
        "import matplotlib.colors as mcolors\n",
        "import numpy as np\n",
        "\n",
        "import gspread\n",
        "from oauth2client.service_account import ServiceAccountCredentials\n",
        "\n",
        "# Define the scope\n",
        "scope = [\"https://spreadsheets.google.com/feeds\", \"https://www.googleapis.com/auth/drive\"]\n",
        "\n",
        "# Provide the path to the JSON file\n",
        "creds = ServiceAccountCredentials.from_json_keyfile_name('/content/drive/Shareddrives/SFTT Shared Drive/0General Management & Admin/Employee Onboarding/SFTT Specific Employees/Summer 2024/Katherine Anne/Colabs/enhanced-keel-424914-m2-7c2e82d072b9.json', scope)\n",
        "\n",
        "# Authorize the clientsheet\n",
        "client = gspread.authorize(creds)"
      ],
      "metadata": {
        "id": "K-N4pxmA-FzV"
      },
      "execution_count": 10,
      "outputs": []
    },
    {
      "cell_type": "markdown",
      "source": [
        "### Set Up Aesthetics"
      ],
      "metadata": {
        "id": "PDUdDJetYrHv"
      }
    },
    {
      "cell_type": "code",
      "source": [
        "# Brand Color Pallete\n",
        "brand_color_palette = ['#5e9b4f', '#8fc640', '#d8e264']\n",
        "brand_cmap = mcolors.ListedColormap(brand_color_palette)"
      ],
      "metadata": {
        "id": "OACvzM5HcvOh"
      },
      "execution_count": 11,
      "outputs": []
    },
    {
      "cell_type": "code",
      "source": [
        "# Brand Color Ramp\n",
        "color_start = '#d8e264'\n",
        "color_end = '#5e9b4f'\n",
        "brand_ramp_cmap = mcolors.LinearSegmentedColormap.from_list('brand_color_ramp', [color_start, color_end])"
      ],
      "metadata": {
        "id": "juJ3P4sgZAyI"
      },
      "execution_count": 12,
      "outputs": []
    },
    {
      "cell_type": "markdown",
      "source": [
        "### Read In Data"
      ],
      "metadata": {
        "id": "Kis_fYcaYVlg"
      }
    },
    {
      "cell_type": "code",
      "source": [
        "# NeighborWoods Data\n",
        "NeighborWoods_url = 'https://docs.google.com/spreadsheets/d/1enP3gL5AnYsXtrby4jwONOUZMayF4iVG0EGhQRZBrVA/edit#gid=472265262'\n",
        "NeighborWoods_Sheets = client.open_by_url(NeighborWoods_url)\n",
        "NeighborWoods_Sheet2 = NeighborWoods_Sheets.get_worksheet(1)\n",
        "NeighborWoods_Data2 = NeighborWoods_Sheet2.get_all_values()\n",
        "NeighborWoods2_df = pd.DataFrame(NeighborWoods_Data2[1:], columns = NeighborWoods_Data2[0])"
      ],
      "metadata": {
        "id": "NhzYvDuK-PHL"
      },
      "execution_count": 13,
      "outputs": []
    },
    {
      "cell_type": "code",
      "source": [
        "# Mass GIS Data\n",
        "shapefile_path = '/content/drive/Shareddrives/SFTT Shared Drive/0General Management & Admin/Employee Onboarding/SFTT Specific Employees/Summer 2024/Katherine Anne/Colabs/GIS/BostonParcels.1/BostonParcels.1.shp'\n",
        "MassGISData = gpd.read_file(shapefile_path)"
      ],
      "metadata": {
        "id": "7ZHmc0CEYg5A"
      },
      "execution_count": 14,
      "outputs": []
    },
    {
      "cell_type": "code",
      "source": [
        "# TES Data\n",
        "shapefile_path = '/content/drive/Shareddrives/SFTT Shared Drive/0General Management & Admin/Employee Onboarding/SFTT Specific Employees/Summer 2024/Katherine Anne/Colabs/GIS/TESData/ma_tes.shp'\n",
        "TESData = gpd.read_file(shapefile_path)"
      ],
      "metadata": {
        "id": "ry27qtrpYigV"
      },
      "execution_count": 15,
      "outputs": []
    },
    {
      "cell_type": "code",
      "source": [
        "#"
      ],
      "metadata": {
        "id": "OBOWCUAxYzVH"
      },
      "execution_count": null,
      "outputs": []
    },
    {
      "cell_type": "markdown",
      "source": [
        "### Limit Code"
      ],
      "metadata": {
        "id": "_Pk_l9Xuf32I"
      }
    },
    {
      "cell_type": "code",
      "source": [
        "# Reproject TES Data\n",
        "if MassGISData.crs != TESData.crs:\n",
        "    TESData = TESData.to_crs(MassGISData.crs)\n",
        "    print(\"Reprojected TESData CRS:\", TESData.crs)"
      ],
      "metadata": {
        "colab": {
          "base_uri": "https://localhost:8080/"
        },
        "id": "YwElqLc_fUW2",
        "outputId": "c89fbe4b-01a3-4d71-dba1-65b1ea2d357d"
      },
      "execution_count": 16,
      "outputs": [
        {
          "output_type": "stream",
          "name": "stdout",
          "text": [
            "Reprojected TESData CRS: EPSG:26986\n"
          ]
        }
      ]
    },
    {
      "cell_type": "code",
      "source": [
        "intersection = gpd.overlay(MassGISData, TESData, how='intersection')"
      ],
      "metadata": {
        "id": "gch4-lawgRAk"
      },
      "execution_count": null,
      "outputs": []
    },
    {
      "cell_type": "markdown",
      "source": [
        "### Testing"
      ],
      "metadata": {
        "id": "ttXpolycY1E2"
      }
    },
    {
      "cell_type": "code",
      "source": [
        "fig, ax = plt.subplots(figsize=(10, 10))\n",
        "MassGISData.plot(column='POLY_TYPE', ax=ax, cmap='brand_ramp_cmap', legend=True)\n",
        "plt.show()"
      ],
      "metadata": {
        "id": "kum7EEcLQOXG"
      },
      "execution_count": null,
      "outputs": []
    },
    {
      "cell_type": "code",
      "source": [
        "TESData.head()"
      ],
      "metadata": {
        "id": "dQSyxyaHcQpu"
      },
      "execution_count": null,
      "outputs": []
    },
    {
      "cell_type": "code",
      "source": [
        "print(MassGISData['SITE_ADDR'])"
      ],
      "metadata": {
        "id": "bOMvNNFMblty"
      },
      "execution_count": null,
      "outputs": []
    },
    {
      "cell_type": "code",
      "source": [
        "print(MassGISData.columns)\n",
        "print(TESData.columns)"
      ],
      "metadata": {
        "colab": {
          "base_uri": "https://localhost:8080/"
        },
        "id": "7a1Mj263cw6E",
        "outputId": "5967a3c7-4e75-459e-fa33-681052dfa161"
      },
      "execution_count": 19,
      "outputs": [
        {
          "output_type": "stream",
          "name": "stdout",
          "text": [
            "Index(['MAP_PAR_ID', 'LOC_ID', 'POLY_TYPE', 'MAP_NO', 'SOURCE', 'PLAN_ID',\n",
            "       'LAST_EDIT', 'BND_CHK', 'NO_MATCH', 'TOWN_ID', 'PROP_ID', 'BLDG_VAL',\n",
            "       'LAND_VAL', 'OTHER_VAL', 'TOTAL_VAL', 'FY', 'LOT_SIZE', 'LS_DATE',\n",
            "       'LS_PRICE', 'USE_CODE', 'SITE_ADDR', 'ADDR_NUM', 'FULL_STR', 'LOCATION',\n",
            "       'CITY', 'ZIP', 'OWNER1', 'OWN_ADDR', 'OWN_CITY', 'OWN_STATE', 'OWN_ZIP',\n",
            "       'OWN_CO', 'LS_BOOK', 'LS_PAGE', 'REG_ID', 'ZONING', 'YEAR_BUILT',\n",
            "       'BLD_AREA', 'UNITS', 'RES_AREA', 'STYLE', 'NUM_ROOMS', 'LOT_UNITS',\n",
            "       'STORIES', 'SHAPE_Leng', 'SHAPE_Area', 'geometry'],\n",
            "      dtype='object')\n",
            "Index(['GEOID', 'place', 'state', 'state_abbr', 'county', 'ua_name', 'ua_pop',\n",
            "       'congressio', 'cbg_pop', 'acs_pop', 'land_area', 'biome', 'cnpysource',\n",
            "       'tc_goal', 'treecanopy', 'tc_gap', 'priority_i', 'pctpoc', 'pctpocnorm',\n",
            "       'pctpov', 'pctpovnorm', 'unemplrate', 'unemplnorm', 'dep_ratio',\n",
            "       'dep_perc', 'depratnorm', 'linguistic', 'lingnorm', 'health_nor',\n",
            "       'temp_diff', 'temp_norm', 'tes', 'tesctyscor', 'holc_grade',\n",
            "       'child_perc', 'seniorperc', 'geometry'],\n",
            "      dtype='object')\n"
          ]
        }
      ]
    },
    {
      "cell_type": "code",
      "source": [
        "column_name = 'SITE_ADDR'\n",
        "value_to_find = '39 MELLEN ST'\n",
        "\n",
        "# Find rows where the column matches the value\n",
        "matching_rows = MassGISData[MassGISData[column_name] == value_to_find]\n",
        "print(matching_rows[['MAP_PAR_ID','SITE_ADDR']])"
      ],
      "metadata": {
        "colab": {
          "base_uri": "https://localhost:8080/"
        },
        "id": "8KluXBVFfJh-",
        "outputId": "70d2a0b0-a68e-4553-9e6a-1793796579a0"
      },
      "execution_count": 19,
      "outputs": [
        {
          "output_type": "stream",
          "name": "stdout",
          "text": [
            "        MAP_PAR_ID     SITE_ADDR\n",
            "147124  1704707000  39 MELLEN ST\n"
          ]
        }
      ]
    },
    {
      "cell_type": "markdown",
      "source": [
        "This is a test"
      ],
      "metadata": {
        "id": "77jyw-zWkI4p"
      }
    }
  ]
}